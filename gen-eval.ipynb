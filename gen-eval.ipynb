{
 "cells": [
  {
   "cell_type": "code",
   "execution_count": 22,
   "metadata": {},
   "outputs": [],
   "source": [
    "import numpy as np\n",
    "import pandas as pd\n",
    "from sklearn.metrics import accuracy_score, f1_score, precision_score, recall_score\n",
    "from sklearn.model_selection import train_test_split"
   ]
  },
  {
   "cell_type": "code",
   "execution_count": 23,
   "metadata": {},
   "outputs": [],
   "source": [
    "def get_depr_anx(gen_text):\n",
    "    dep_start_id = gen_text.rfind('DEPRESSION')\n",
    "    if gen_text[dep_start_id:dep_start_id+17].rfind('True') != -1:\n",
    "        dep = 1\n",
    "    elif gen_text[dep_start_id:dep_start_id+17].rfind('False') != -1:\n",
    "        dep = 0\n",
    "    else:\n",
    "        dep = 2\n",
    "    # dep = 1 if gen_text[dep_start_id:dep_start_id+17].rfind('True') != -1\n",
    "    # dep = 0 if gen_text[dep_start_id:dep_start_id+17].rfind('False') != -1\n",
    "    \n",
    "    anx_start_id = gen_text.rfind('ANXIETY')\n",
    "    if gen_text[anx_start_id:anx_start_id+14].rfind('True') != -1:\n",
    "        anx = 1\n",
    "    elif gen_text[anx_start_id:anx_start_id+14].rfind('False') != -1:\n",
    "        anx = 0\n",
    "    else:\n",
    "        anx = 2\n",
    "    \n",
    "    # anx = 1 if gen_text[anx_start_id:anx_start_id+14].rfind('True') != -1 else 0\n",
    "        \n",
    "    return dep, anx"
   ]
  },
  {
   "cell_type": "code",
   "execution_count": 24,
   "metadata": {},
   "outputs": [],
   "source": [
    "df3 = pd.read_csv('oneHotData.csv')\n",
    "train_data, test_data = train_test_split(df3, test_size=0.2, random_state=42)"
   ]
  },
  {
   "cell_type": "code",
   "execution_count": 25,
   "metadata": {},
   "outputs": [],
   "source": [
    "test_pred = pd.read_csv('GPT3.5_Outputs_1Shot_CounselChat.csv')"
   ]
  },
  {
   "cell_type": "code",
   "execution_count": 26,
   "metadata": {},
   "outputs": [
    {
     "data": {
      "text/plain": [
       "Index(['generated_outputs'], dtype='object')"
      ]
     },
     "execution_count": 26,
     "metadata": {},
     "output_type": "execute_result"
    }
   ],
   "source": [
    "test_pred.columns"
   ]
  },
  {
   "cell_type": "code",
   "execution_count": 27,
   "metadata": {},
   "outputs": [],
   "source": [
    "preds = test_pred['generated_outputs'].apply(get_depr_anx)"
   ]
  },
  {
   "cell_type": "code",
   "execution_count": 28,
   "metadata": {},
   "outputs": [],
   "source": [
    "pred_dep, pred_anx = zip(*preds)"
   ]
  },
  {
   "cell_type": "code",
   "execution_count": 29,
   "metadata": {},
   "outputs": [],
   "source": [
    "label_dep = list(test_data['Depression'].apply(lambda x: 1 if x == True else 0))\n",
    "label_anx = list(test_data['Anxiety'].apply(lambda x: 1 if x == True else 0))"
   ]
  },
  {
   "cell_type": "code",
   "execution_count": 30,
   "metadata": {},
   "outputs": [
    {
     "name": "stdout",
     "output_type": "stream",
     "text": [
      "0.5579710144927537\n",
      "0.37755102040816324\n",
      "0.23417721518987342\n",
      "0.9736842105263158\n"
     ]
    }
   ],
   "source": [
    "print(accuracy_score(label_dep, pred_dep))\n",
    "print(f1_score(label_dep, pred_dep))\n",
    "print(precision_score(label_dep, pred_dep))\n",
    "print(recall_score(label_dep, pred_dep))"
   ]
  },
  {
   "cell_type": "code",
   "execution_count": 31,
   "metadata": {},
   "outputs": [
    {
     "name": "stdout",
     "output_type": "stream",
     "text": [
      "0.6159420289855072\n",
      "0.4111111111111111\n",
      "0.26618705035971224\n",
      "0.9024390243902439\n"
     ]
    }
   ],
   "source": [
    "print(accuracy_score(label_anx, pred_anx))\n",
    "print(f1_score(label_anx, pred_anx))\n",
    "print(precision_score(label_anx, pred_anx))\n",
    "print(recall_score(label_anx, pred_anx))"
   ]
  }
 ],
 "metadata": {
  "kernelspec": {
   "display_name": "STDP-Env",
   "language": "python",
   "name": "python3"
  },
  "language_info": {
   "codemirror_mode": {
    "name": "ipython",
    "version": 3
   },
   "file_extension": ".py",
   "mimetype": "text/x-python",
   "name": "python",
   "nbconvert_exporter": "python",
   "pygments_lexer": "ipython3",
   "version": "3.9.17"
  }
 },
 "nbformat": 4,
 "nbformat_minor": 2
}
