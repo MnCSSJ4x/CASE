{
 "cells": [
  {
   "cell_type": "code",
   "execution_count": 34,
   "metadata": {},
   "outputs": [],
   "source": [
    "import pandas as pd\n",
    "import numpy as np\n",
    "from tqdm.auto import tqdm\n",
    "import gc\n",
    "from retry import retry\n",
    "import requests\n",
    "import os\n",
    "import openai\n",
    "from sklearn.model_selection import train_test_split\n",
    "from concurrent.futures import ThreadPoolExecutor"
   ]
  },
  {
   "cell_type": "code",
   "execution_count": 35,
   "metadata": {},
   "outputs": [],
   "source": [
    "from openai import OpenAI"
   ]
  },
  {
   "cell_type": "code",
   "execution_count": 36,
   "metadata": {},
   "outputs": [],
   "source": [
    "client = OpenAI(api_key='<YOUR-API-TOKEN>')"
   ]
  },
  {
   "cell_type": "code",
   "execution_count": 37,
   "metadata": {},
   "outputs": [],
   "source": [
    "n = 1"
   ]
  },
  {
   "cell_type": "code",
   "execution_count": 38,
   "metadata": {},
   "outputs": [],
   "source": [
    "df3 = pd.read_csv('oneHotData.csv')\n",
    "# col_to_use = 'TEXT'"
   ]
  },
  {
   "cell_type": "code",
   "execution_count": 39,
   "metadata": {},
   "outputs": [],
   "source": [
    "train_data, test_data = train_test_split(df3, test_size=0.2, random_state=42)"
   ]
  },
  {
   "cell_type": "code",
   "execution_count": 40,
   "metadata": {},
   "outputs": [],
   "source": [
    "def make_prompt(top_n_rows, test_row):\n",
    "    prompt = \"\"\"Act as a professional psychiatrist and study the passage for signs of mental health disorders. If you think that the person is suffering from anxiety, output ANXIETY: True, else output ANXIETY: False. Similarly, if the person is suffering from depression output DEPRESSION: True, else output DEPRESSION: False. Do not print anything else. There are some examples on how to do this provided in the backticks.\n",
    "```\"\"\"\n",
    "    for i, row in top_n_rows.iterrows():\n",
    "        prompt += f\"\"\"\n",
    "Passage: {row['questionFull']}\n",
    "ANXIETY: {row['Anxiety']}\n",
    "DEPRESSION: {row['Depression']}\n",
    "\"\"\"\n",
    "\n",
    "    prompt += f\"\"\"\n",
    "```\n",
    "Using the understanding of the task gained from the above examples do the same for the following passage\n",
    "Passage: {test_row['questionFull']}\n",
    "\"\"\"\n",
    "    return prompt"
   ]
  },
  {
   "cell_type": "code",
   "execution_count": 41,
   "metadata": {},
   "outputs": [],
   "source": [
    "few_shot_args = [(train_data.sample(n), test_row) for i, test_row in test_data.iterrows()]"
   ]
  },
  {
   "cell_type": "code",
   "execution_count": 42,
   "metadata": {},
   "outputs": [],
   "source": [
    "def make_message(top_n_rows, test_row):\n",
    "    message = [\n",
    "        {\"role\": \"user\", \"content\": f\"{make_prompt(top_n_rows, test_row)}\"}\n",
    "    ]\n",
    "    \n",
    "    return message"
   ]
  },
  {
   "cell_type": "code",
   "execution_count": 43,
   "metadata": {},
   "outputs": [],
   "source": [
    "@retry(exceptions=Exception, tries=2, delay=30)\n",
    "def make_call(top_n_rows, test_row):\n",
    "    try:\n",
    "        response = client.chat.completions.create(\n",
    "            model=\"gpt-3.5-turbo-1106\",\n",
    "            messages=make_message(top_n_rows, test_row),\n",
    "            # request_timeout=60\n",
    "        )\n",
    "        return response\n",
    "    except KeyboardInterrupt:\n",
    "        print(\"Closing...\")\n",
    "        return \"Error\"\n",
    "    except Exception as e:\n",
    "        print(\"Timeout occurred, retrying\")\n",
    "        print(e)\n",
    "        raise e"
   ]
  },
  {
   "cell_type": "code",
   "execution_count": 44,
   "metadata": {},
   "outputs": [],
   "source": [
    "def make_few_shot_prompt_call(top_n_rows, test_row):\n",
    "    # prompt = make_prompt(top_n_rows, test_row)\n",
    "    resp = make_call(top_n_rows, test_row)\n",
    "    # return resp\n",
    "    pbar.update(1)\n",
    "    \n",
    "    return resp    "
   ]
  },
  {
   "cell_type": "code",
   "execution_count": 45,
   "metadata": {},
   "outputs": [
    {
     "data": {
      "application/vnd.jupyter.widget-view+json": {
       "model_id": "4c0dcfee08de4f4197b27f2161baef81",
       "version_major": 2,
       "version_minor": 0
      },
      "text/plain": [
       "  0%|          | 0/276 [00:00<?, ?it/s]"
      ]
     },
     "metadata": {},
     "output_type": "display_data"
    },
    {
     "name": "stderr",
     "output_type": "stream",
     "text": [
      "  0%|          | 0/276 [00:52<?, ?it/s]\n"
     ]
    }
   ],
   "source": [
    "MAX_THREADS = 10\n",
    "pbar = tqdm(total=len(few_shot_args))\n",
    "with ThreadPoolExecutor(max_workers=MAX_THREADS) as executor:\n",
    "    res = list(executor.map(make_few_shot_prompt_call, *zip(*few_shot_args)))"
   ]
  },
  {
   "cell_type": "code",
   "execution_count": 47,
   "metadata": {},
   "outputs": [
    {
     "data": {
      "text/plain": [
       "'ANXIETY: True\\nDEPRESSION: False'"
      ]
     },
     "execution_count": 47,
     "metadata": {},
     "output_type": "execute_result"
    }
   ],
   "source": [
    "res[0].choices[0].message.content"
   ]
  },
  {
   "cell_type": "code",
   "execution_count": 50,
   "metadata": {},
   "outputs": [],
   "source": [
    "outputs = [op.choices[0].message.content.replace('\\n', \" <NEWLINE> \") for op in res]"
   ]
  },
  {
   "cell_type": "code",
   "execution_count": 52,
   "metadata": {},
   "outputs": [],
   "source": [
    "res_df = pd.DataFrame({\"generated_outputs\": outputs})\n",
    "res_df.to_csv(f\"GPT3.5_Outputs_{n}Shot_CounselChat.csv\", index=False)"
   ]
  },
  {
   "cell_type": "code",
   "execution_count": 15,
   "metadata": {},
   "outputs": [],
   "source": [
    "def get_text(api_response):\n",
    "    try:\n",
    "        ret = api_response.choices[0].message.content\n",
    "        return ret\n",
    "    except:\n",
    "        print(\"Error occurred with the text retrieval\")\n",
    "        return \"Error\""
   ]
  },
  {
   "cell_type": "code",
   "execution_count": 16,
   "metadata": {},
   "outputs": [],
   "source": [
    "# df1['Generated Diagnosis Summary'] = np.empty((df1.shape[0], ))\n",
    "# df2['Generated Diagnosis Summary'] = np.empty((df2.shape[0], ))\n",
    "df3['GPT Summary'] = np.empty((df3.shape[0], ))"
   ]
  },
  {
   "cell_type": "code",
   "execution_count": 17,
   "metadata": {},
   "outputs": [],
   "source": [
    "df3.reset_index(inplace=True)"
   ]
  },
  {
   "cell_type": "code",
   "execution_count": 18,
   "metadata": {},
   "outputs": [],
   "source": [
    "df3.drop(columns='index', inplace=True)"
   ]
  },
  {
   "cell_type": "code",
   "execution_count": 19,
   "metadata": {},
   "outputs": [
    {
     "name": "stderr",
     "output_type": "stream",
     "text": [
      "100%|██████████| 127/127 [21:38<00:00, 10.22s/it]\n"
     ]
    }
   ],
   "source": [
    "# for i in tqdm(range(df1.shape[0])):\n",
    "#     df1.loc[i, 'Generated Diagnosis Summary'] = get_text(make_call(df1.iloc[i]))\n",
    "\n",
    "# for i in tqdm(range(df2.shape[0])):\n",
    "#     df2.loc[i, 'Generated Diagnosis Summary'] = get_text(make_call(df2.iloc[i]))\n",
    "    \n",
    "for i in tqdm(range(df3.shape[0])):\n",
    "    df3.loc[i, 'GPT Summary'] = get_text(make_call(df3.iloc[i]))"
   ]
  },
  {
   "cell_type": "code",
   "execution_count": 20,
   "metadata": {},
   "outputs": [],
   "source": [
    "df3['Generated Diagnosis Summary'] = df3['GPT Summary']"
   ]
  },
  {
   "cell_type": "code",
   "execution_count": 30,
   "metadata": {},
   "outputs": [],
   "source": [
    "df3['Predicted Diagnosis'] = df3['Generated Diagnosis Summary'].apply(lambda text: \". \".join(text.replace('\\n\\n', '\\n').split(sep='\\n')))"
   ]
  },
  {
   "cell_type": "code",
   "execution_count": 32,
   "metadata": {},
   "outputs": [],
   "source": [
    "og_df = pd.read_csv(\"test_diag_dataset.csv\", sep='|')"
   ]
  },
  {
   "cell_type": "code",
   "execution_count": null,
   "metadata": {},
   "outputs": [],
   "source": [
    "df3['Generated Diagnosis Summary'] = og_df['Generated Diagnosis Summary']"
   ]
  },
  {
   "cell_type": "code",
   "execution_count": 29,
   "metadata": {},
   "outputs": [],
   "source": [
    "df3.to_csv(\"GPT35_Predictions.csv\", sep='|', index=False)"
   ]
  },
  {
   "cell_type": "code",
   "execution_count": 33,
   "metadata": {},
   "outputs": [],
   "source": [
    "df3.to_csv('FILE_TARGET', index=False)"
   ]
  }
 ],
 "metadata": {
  "kernelspec": {
   "display_name": "STDP-Env",
   "language": "python",
   "name": "python3"
  },
  "language_info": {
   "codemirror_mode": {
    "name": "ipython",
    "version": 3
   },
   "file_extension": ".py",
   "mimetype": "text/x-python",
   "name": "python",
   "nbconvert_exporter": "python",
   "pygments_lexer": "ipython3",
   "version": "3.9.17"
  }
 },
 "nbformat": 4,
 "nbformat_minor": 2
}
